{
 "cells": [
  {
   "cell_type": "markdown",
   "metadata": {},
   "source": [
    "![](https://www.pata.org/wp-content/uploads/2014/09/TripAdvisor_Logo-300x119.png)\n",
    "# Predict TripAdvisor Rating\n",
    "## В этом соревновании нам предстоит предсказать рейтинг ресторана в TripAdvisor\n",
    "**По ходу задачи:**\n",
    "* Прокачаем работу с pandas\n",
    "* Научимся работать с Kaggle Notebooks\n",
    "* Поймем как делать предобработку различных данных\n",
    "* Научимся работать с пропущенными данными (Nan)\n",
    "* Познакомимся с различными видами кодирования признаков\n",
    "* Немного попробуем [Feature Engineering](https://ru.wikipedia.org/wiki/Конструирование_признаков) (генерировать новые признаки)\n",
    "* И совсем немного затронем ML\n",
    "* И многое другое...   \n",
    "\n",
    "\n",
    "\n",
    "### И самое важное, все это вы сможете сделать самостоятельно!\n",
    "\n",
    "*Этот Ноутбук являетсся Примером/Шаблоном к этому соревнованию (Baseline) и не служит готовым решением!*   \n",
    "Вы можете использовать его как основу для построения своего решения.\n",
    "\n",
    "> что такое baseline решение, зачем оно нужно и почему предоставлять baseline к соревнованию стало важным стандартом на kaggle и других площадках.   \n",
    "**baseline** создается больше как шаблон, где можно посмотреть как происходит обращение с входящими данными и что нужно получить на выходе. При этом МЛ начинка может быть достаточно простой, просто для примера. Это помогает быстрее приступить к самому МЛ, а не тратить ценное время на чисто инженерные задачи. \n",
    "Также baseline являеться хорошей опорной точкой по метрике. Если твое решение хуже baseline - ты явно делаешь что-то не то и стоит попробовать другой путь) \n",
    "\n",
    "В контексте нашего соревнования baseline идет с небольшими примерами того, что можно делать с данными, и с инструкцией, что делать дальше, чтобы улучшить результат.  Вообще готовым решением это сложно назвать, так как используются всего 2 самых простых признака (а остальные исключаются)."
   ]
  },
  {
   "cell_type": "markdown",
   "metadata": {},
   "source": [
    "# import"
   ]
  },
  {
   "cell_type": "code",
   "execution_count": 1,
   "metadata": {
    "_cell_guid": "b1076dfc-b9ad-4769-8c92-a6c4dae69d19",
    "_uuid": "8f2839f25d086af736a60e9eeb907d3b93b6e0e5"
   },
   "outputs": [
    {
     "name": "stdout",
     "output_type": "stream",
     "text": [
      "/kaggle/input/sf-dst-restaurant-rating/sample_submission.csv\n",
      "/kaggle/input/sf-dst-restaurant-rating/main_task.csv\n",
      "/kaggle/input/sf-dst-restaurant-rating/kaggle_task.csv\n"
     ]
    }
   ],
   "source": [
    "# This Python 3 environment comes with many helpful analytics libraries installed\n",
    "# It is defined by the kaggle/python docker image: https://github.com/kaggle/docker-python\n",
    "# For example, here's several helpful packages to load in \n",
    "\n",
    "import numpy as np # linear algebra\n",
    "import pandas as pd # data processing, CSV file I/O (e.g. pd.read_csv)\n",
    "\n",
    "import matplotlib.pyplot as plt\n",
    "import seaborn as sns \n",
    "%matplotlib inline\n",
    "\n",
    "# Загружаем специальный удобный инструмент для разделения датасета:\n",
    "from sklearn.model_selection import train_test_split\n",
    "\n",
    "# Input data files are available in the \"../input/\" directory.\n",
    "# For example, running this (by clicking run or pressing Shift+Enter) will list all files under the input directory\n",
    "\n",
    "import os\n",
    "for dirname, _, filenames in os.walk('/kaggle/input'):\n",
    "    for filename in filenames:\n",
    "        print(os.path.join(dirname, filename))\n",
    "\n",
    "# регулярные выражения:        \n",
    "import re\n",
    "\n",
    "# модули для работы с временными значениями:\n",
    "from datetime import datetime, timedelta\n",
    "\n",
    "# Any results you write to the current directory are saved as output."
   ]
  },
  {
   "cell_type": "code",
   "execution_count": 2,
   "metadata": {},
   "outputs": [],
   "source": [
    "# всегда фиксируйте RANDOM_SEED, чтобы ваши эксперименты были воспроизводимы!\n",
    "RANDOM_SEED = 42"
   ]
  },
  {
   "cell_type": "code",
   "execution_count": 3,
   "metadata": {},
   "outputs": [],
   "source": []
  },
  {
   "cell_type": "markdown",
   "metadata": {},
   "source": [
    "# DATA"
   ]
  },
  {
   "cell_type": "code",
   "execution_count": 4,
   "metadata": {
    "_cell_guid": "79c7e3d0-c299-4dcb-8224-4455121ee9b0",
    "_uuid": "d629ff2d2480ee46fbb7e2d37f6b5fab8052498a"
   },
   "outputs": [],
   "source": [
    "DATA_DIR = '/kaggle/input/sf-dst-restaurant-rating/'\n",
    "df_train = pd.read_csv(DATA_DIR+'/main_task.csv')\n",
    "df_test = pd.read_csv(DATA_DIR+'kaggle_task.csv')\n",
    "sample_submission = pd.read_csv(DATA_DIR+'/sample_submission.csv')"
   ]
  },
  {
   "cell_type": "code",
   "execution_count": 5,
   "metadata": {},
   "outputs": [
    {
     "name": "stdout",
     "output_type": "stream",
     "text": [
      "<class 'pandas.core.frame.DataFrame'>\n",
      "RangeIndex: 40000 entries, 0 to 39999\n",
      "Data columns (total 10 columns):\n",
      "Restaurant_id        40000 non-null object\n",
      "City                 40000 non-null object\n",
      "Cuisine Style        30717 non-null object\n",
      "Ranking              40000 non-null float64\n",
      "Rating               40000 non-null float64\n",
      "Price Range          26114 non-null object\n",
      "Number of Reviews    37457 non-null float64\n",
      "Reviews              40000 non-null object\n",
      "URL_TA               40000 non-null object\n",
      "ID_TA                40000 non-null object\n",
      "dtypes: float64(3), object(7)\n",
      "memory usage: 3.1+ MB\n"
     ]
    }
   ],
   "source": [
    "df_train.info()"
   ]
  },
  {
   "cell_type": "code",
   "execution_count": 6,
   "metadata": {},
   "outputs": [
    {
     "name": "stdout",
     "output_type": "stream",
     "text": [
      "<class 'pandas.core.frame.DataFrame'>\n",
      "RangeIndex: 10000 entries, 0 to 9999\n",
      "Data columns (total 9 columns):\n",
      "Restaurant_id        10000 non-null object\n",
      "City                 10000 non-null object\n",
      "Cuisine Style        7693 non-null object\n",
      "Ranking              10000 non-null float64\n",
      "Price Range          6525 non-null object\n",
      "Number of Reviews    9343 non-null float64\n",
      "Reviews              9998 non-null object\n",
      "URL_TA               10000 non-null object\n",
      "ID_TA                10000 non-null object\n",
      "dtypes: float64(2), object(7)\n",
      "memory usage: 703.2+ KB\n"
     ]
    }
   ],
   "source": [
    "df_test.info()"
   ]
  },
  {
   "cell_type": "code",
   "execution_count": 7,
   "metadata": {},
   "outputs": [
    {
     "name": "stdout",
     "output_type": "stream",
     "text": [
      "<class 'pandas.core.frame.DataFrame'>\n",
      "RangeIndex: 10000 entries, 0 to 9999\n",
      "Data columns (total 2 columns):\n",
      "Restaurant_id    10000 non-null object\n",
      "Rating           10000 non-null float64\n",
      "dtypes: float64(1), object(1)\n",
      "memory usage: 156.4+ KB\n"
     ]
    }
   ],
   "source": [
    "sample_submission.info()"
   ]
  },
  {
   "cell_type": "code",
   "execution_count": 8,
   "metadata": {},
   "outputs": [
    {
     "data": {
      "text/html": [
       "<div>\n",
       "<style scoped>\n",
       "    .dataframe tbody tr th:only-of-type {\n",
       "        vertical-align: middle;\n",
       "    }\n",
       "\n",
       "    .dataframe tbody tr th {\n",
       "        vertical-align: top;\n",
       "    }\n",
       "\n",
       "    .dataframe thead th {\n",
       "        text-align: right;\n",
       "    }\n",
       "</style>\n",
       "<table border=\"1\" class=\"dataframe\">\n",
       "  <thead>\n",
       "    <tr style=\"text-align: right;\">\n",
       "      <th></th>\n",
       "      <th>Restaurant_id</th>\n",
       "      <th>City</th>\n",
       "      <th>Cuisine Style</th>\n",
       "      <th>Ranking</th>\n",
       "      <th>Price Range</th>\n",
       "      <th>Number of Reviews</th>\n",
       "      <th>Reviews</th>\n",
       "      <th>URL_TA</th>\n",
       "      <th>ID_TA</th>\n",
       "    </tr>\n",
       "  </thead>\n",
       "  <tbody>\n",
       "    <tr>\n",
       "      <th>9844</th>\n",
       "      <td>id_9844</td>\n",
       "      <td>Stockholm</td>\n",
       "      <td>['Bar', 'Pub']</td>\n",
       "      <td>471.0</td>\n",
       "      <td>$$ - $$$</td>\n",
       "      <td>63.0</td>\n",
       "      <td>[['English style pub', 'Good local feel with n...</td>\n",
       "      <td>/Restaurant_Review-g189852-d5949258-Reviews-Ol...</td>\n",
       "      <td>d5949258</td>\n",
       "    </tr>\n",
       "    <tr>\n",
       "      <th>2755</th>\n",
       "      <td>id_2755</td>\n",
       "      <td>Berlin</td>\n",
       "      <td>['American', 'Fast Food', 'Vegetarian Friendly...</td>\n",
       "      <td>411.0</td>\n",
       "      <td>$</td>\n",
       "      <td>182.0</td>\n",
       "      <td>[['Good burgers', 'Juicy - Tasty - Varied'], [...</td>\n",
       "      <td>/Restaurant_Review-g187323-d6610795-Reviews-Sc...</td>\n",
       "      <td>d6610795</td>\n",
       "    </tr>\n",
       "    <tr>\n",
       "      <th>5650</th>\n",
       "      <td>id_5650</td>\n",
       "      <td>London</td>\n",
       "      <td>NaN</td>\n",
       "      <td>12848.0</td>\n",
       "      <td>NaN</td>\n",
       "      <td>3.0</td>\n",
       "      <td>[['Convenient for a quick breakfast', 'Needs a...</td>\n",
       "      <td>/Restaurant_Review-g186338-d12227839-Reviews-C...</td>\n",
       "      <td>d12227839</td>\n",
       "    </tr>\n",
       "    <tr>\n",
       "      <th>3637</th>\n",
       "      <td>id_3637</td>\n",
       "      <td>Paris</td>\n",
       "      <td>['French']</td>\n",
       "      <td>12377.0</td>\n",
       "      <td>$$ - $$$</td>\n",
       "      <td>35.0</td>\n",
       "      <td>[['Decent breakfast buffet', 'Boring food'], [...</td>\n",
       "      <td>/Restaurant_Review-g187147-d2569359-Reviews-Co...</td>\n",
       "      <td>d2569359</td>\n",
       "    </tr>\n",
       "    <tr>\n",
       "      <th>3485</th>\n",
       "      <td>id_3485</td>\n",
       "      <td>Paris</td>\n",
       "      <td>['French', 'European', 'Gastropub', 'Vegetaria...</td>\n",
       "      <td>751.0</td>\n",
       "      <td>$$ - $$$</td>\n",
       "      <td>371.0</td>\n",
       "      <td>[['Fantastic authentic French cuisine', 'Perfe...</td>\n",
       "      <td>/Restaurant_Review-g187147-d4178408-Reviews-Le...</td>\n",
       "      <td>d4178408</td>\n",
       "    </tr>\n",
       "  </tbody>\n",
       "</table>\n",
       "</div>"
      ],
      "text/plain": [
       "     Restaurant_id       City  \\\n",
       "9844       id_9844  Stockholm   \n",
       "2755       id_2755     Berlin   \n",
       "5650       id_5650     London   \n",
       "3637       id_3637      Paris   \n",
       "3485       id_3485      Paris   \n",
       "\n",
       "                                          Cuisine Style  Ranking Price Range  \\\n",
       "9844                                     ['Bar', 'Pub']    471.0    $$ - $$$   \n",
       "2755  ['American', 'Fast Food', 'Vegetarian Friendly...    411.0           $   \n",
       "5650                                                NaN  12848.0         NaN   \n",
       "3637                                         ['French']  12377.0    $$ - $$$   \n",
       "3485  ['French', 'European', 'Gastropub', 'Vegetaria...    751.0    $$ - $$$   \n",
       "\n",
       "      Number of Reviews                                            Reviews  \\\n",
       "9844               63.0  [['English style pub', 'Good local feel with n...   \n",
       "2755              182.0  [['Good burgers', 'Juicy - Tasty - Varied'], [...   \n",
       "5650                3.0  [['Convenient for a quick breakfast', 'Needs a...   \n",
       "3637               35.0  [['Decent breakfast buffet', 'Boring food'], [...   \n",
       "3485              371.0  [['Fantastic authentic French cuisine', 'Perfe...   \n",
       "\n",
       "                                                 URL_TA      ID_TA  \n",
       "9844  /Restaurant_Review-g189852-d5949258-Reviews-Ol...   d5949258  \n",
       "2755  /Restaurant_Review-g187323-d6610795-Reviews-Sc...   d6610795  \n",
       "5650  /Restaurant_Review-g186338-d12227839-Reviews-C...  d12227839  \n",
       "3637  /Restaurant_Review-g187147-d2569359-Reviews-Co...   d2569359  \n",
       "3485  /Restaurant_Review-g187147-d4178408-Reviews-Le...   d4178408  "
      ]
     },
     "execution_count": 8,
     "metadata": {},
     "output_type": "execute_result"
    }
   ],
   "source": [
    "df_test.sample(5)"
   ]
  },
  {
   "cell_type": "code",
   "execution_count": 9,
   "metadata": {},
   "outputs": [
    {
     "data": {
      "text/html": [
       "<div>\n",
       "<style scoped>\n",
       "    .dataframe tbody tr th:only-of-type {\n",
       "        vertical-align: middle;\n",
       "    }\n",
       "\n",
       "    .dataframe tbody tr th {\n",
       "        vertical-align: top;\n",
       "    }\n",
       "\n",
       "    .dataframe thead th {\n",
       "        text-align: right;\n",
       "    }\n",
       "</style>\n",
       "<table border=\"1\" class=\"dataframe\">\n",
       "  <thead>\n",
       "    <tr style=\"text-align: right;\">\n",
       "      <th></th>\n",
       "      <th>Restaurant_id</th>\n",
       "      <th>Rating</th>\n",
       "    </tr>\n",
       "  </thead>\n",
       "  <tbody>\n",
       "    <tr>\n",
       "      <th>8110</th>\n",
       "      <td>id_8110</td>\n",
       "      <td>3.5</td>\n",
       "    </tr>\n",
       "    <tr>\n",
       "      <th>7553</th>\n",
       "      <td>id_7553</td>\n",
       "      <td>1.0</td>\n",
       "    </tr>\n",
       "    <tr>\n",
       "      <th>3473</th>\n",
       "      <td>id_3473</td>\n",
       "      <td>1.0</td>\n",
       "    </tr>\n",
       "    <tr>\n",
       "      <th>6948</th>\n",
       "      <td>id_6948</td>\n",
       "      <td>3.0</td>\n",
       "    </tr>\n",
       "    <tr>\n",
       "      <th>1152</th>\n",
       "      <td>id_1152</td>\n",
       "      <td>4.0</td>\n",
       "    </tr>\n",
       "  </tbody>\n",
       "</table>\n",
       "</div>"
      ],
      "text/plain": [
       "     Restaurant_id  Rating\n",
       "8110       id_8110     3.5\n",
       "7553       id_7553     1.0\n",
       "3473       id_3473     1.0\n",
       "6948       id_6948     3.0\n",
       "1152       id_1152     4.0"
      ]
     },
     "execution_count": 9,
     "metadata": {},
     "output_type": "execute_result"
    }
   ],
   "source": [
    "sample_submission.sample(5)"
   ]
  },
  {
   "cell_type": "code",
   "execution_count": 10,
   "metadata": {},
   "outputs": [],
   "source": [
    "# ВАЖНО! для корректной обработки признаков объединяем трейн и тест в один датасет\n",
    "df_train['sample'] = 1 # помечаем где у нас трейн\n",
    "df_test['sample'] = 0 # помечаем где у нас тест\n",
    "df_test['Rating'] = 0 # в тесте у нас нет значения Rating, мы его должны предсказать, по этому пока просто заполняем нулями\n",
    "\n",
    "df = df_test.append(df_train, sort=False).reset_index(drop=True) # объединяем"
   ]
  },
  {
   "cell_type": "code",
   "execution_count": 11,
   "metadata": {},
   "outputs": [
    {
     "name": "stdout",
     "output_type": "stream",
     "text": [
      "<class 'pandas.core.frame.DataFrame'>\n",
      "RangeIndex: 50000 entries, 0 to 49999\n",
      "Data columns (total 11 columns):\n",
      "Restaurant_id        50000 non-null object\n",
      "City                 50000 non-null object\n",
      "Cuisine Style        38410 non-null object\n",
      "Ranking              50000 non-null float64\n",
      "Price Range          32639 non-null object\n",
      "Number of Reviews    46800 non-null float64\n",
      "Reviews              49998 non-null object\n",
      "URL_TA               50000 non-null object\n",
      "ID_TA                50000 non-null object\n",
      "sample               50000 non-null int64\n",
      "Rating               50000 non-null float64\n",
      "dtypes: float64(3), int64(1), object(7)\n",
      "memory usage: 4.2+ MB\n"
     ]
    }
   ],
   "source": [
    "df.info()"
   ]
  },
  {
   "cell_type": "code",
   "execution_count": 12,
   "metadata": {},
   "outputs": [
    {
     "data": {
      "text/html": [
       "<div>\n",
       "<style scoped>\n",
       "    .dataframe tbody tr th:only-of-type {\n",
       "        vertical-align: middle;\n",
       "    }\n",
       "\n",
       "    .dataframe tbody tr th {\n",
       "        vertical-align: top;\n",
       "    }\n",
       "\n",
       "    .dataframe thead th {\n",
       "        text-align: right;\n",
       "    }\n",
       "</style>\n",
       "<table border=\"1\" class=\"dataframe\">\n",
       "  <thead>\n",
       "    <tr style=\"text-align: right;\">\n",
       "      <th></th>\n",
       "      <th>Restaurant_id</th>\n",
       "      <th>City</th>\n",
       "      <th>Cuisine Style</th>\n",
       "      <th>Ranking</th>\n",
       "      <th>Price Range</th>\n",
       "      <th>Number of Reviews</th>\n",
       "      <th>Reviews</th>\n",
       "      <th>URL_TA</th>\n",
       "      <th>ID_TA</th>\n",
       "      <th>sample</th>\n",
       "      <th>Rating</th>\n",
       "    </tr>\n",
       "  </thead>\n",
       "  <tbody>\n",
       "    <tr>\n",
       "      <th>38000</th>\n",
       "      <td>id_1636</td>\n",
       "      <td>Barcelona</td>\n",
       "      <td>['Mediterranean', 'Spanish', 'Vegetarian Frien...</td>\n",
       "      <td>1637.0</td>\n",
       "      <td>$$ - $$$</td>\n",
       "      <td>50.0</td>\n",
       "      <td>[['Amazing food', 'Fantastic lunch'], ['10/19/...</td>\n",
       "      <td>/Restaurant_Review-g187497-d10758724-Reviews-M...</td>\n",
       "      <td>d10758724</td>\n",
       "      <td>1</td>\n",
       "      <td>4.5</td>\n",
       "    </tr>\n",
       "    <tr>\n",
       "      <th>3886</th>\n",
       "      <td>id_3886</td>\n",
       "      <td>Barcelona</td>\n",
       "      <td>['Mediterranean', 'Spanish']</td>\n",
       "      <td>6342.0</td>\n",
       "      <td>$</td>\n",
       "      <td>23.0</td>\n",
       "      <td>[['Long-time, family-owned, low-frills, local....</td>\n",
       "      <td>/Restaurant_Review-g187497-d3676721-Reviews-Jo...</td>\n",
       "      <td>d3676721</td>\n",
       "      <td>0</td>\n",
       "      <td>0.0</td>\n",
       "    </tr>\n",
       "    <tr>\n",
       "      <th>41552</th>\n",
       "      <td>id_6122</td>\n",
       "      <td>Milan</td>\n",
       "      <td>['Italian']</td>\n",
       "      <td>6126.0</td>\n",
       "      <td>$</td>\n",
       "      <td>49.0</td>\n",
       "      <td>[['OK pizzas + bad service + terribly overpri....</td>\n",
       "      <td>/Restaurant_Review-g187849-d8338665-Reviews-Sp...</td>\n",
       "      <td>d8338665</td>\n",
       "      <td>1</td>\n",
       "      <td>2.0</td>\n",
       "    </tr>\n",
       "    <tr>\n",
       "      <th>48869</th>\n",
       "      <td>id_3181</td>\n",
       "      <td>Rome</td>\n",
       "      <td>['Italian', 'Pizza', 'Seafood', 'Mediterranean']</td>\n",
       "      <td>3182.0</td>\n",
       "      <td>$$ - $$$</td>\n",
       "      <td>47.0</td>\n",
       "      <td>[['Dinner', 'Highly recommended!'], ['04/21/20...</td>\n",
       "      <td>/Restaurant_Review-g187791-d10028870-Reviews-L...</td>\n",
       "      <td>d10028870</td>\n",
       "      <td>1</td>\n",
       "      <td>4.0</td>\n",
       "    </tr>\n",
       "    <tr>\n",
       "      <th>46294</th>\n",
       "      <td>id_7548</td>\n",
       "      <td>London</td>\n",
       "      <td>['Lebanese', 'Fast Food', 'Middle Eastern', 'M...</td>\n",
       "      <td>7557.0</td>\n",
       "      <td>$</td>\n",
       "      <td>80.0</td>\n",
       "      <td>[['Great Shawarma', 'Shawarma!'], ['09/15/2017...</td>\n",
       "      <td>/Restaurant_Review-g186338-d720385-Reviews-Ran...</td>\n",
       "      <td>d720385</td>\n",
       "      <td>1</td>\n",
       "      <td>4.0</td>\n",
       "    </tr>\n",
       "    <tr>\n",
       "      <th>27765</th>\n",
       "      <td>id_369</td>\n",
       "      <td>Ljubljana</td>\n",
       "      <td>NaN</td>\n",
       "      <td>370.0</td>\n",
       "      <td>NaN</td>\n",
       "      <td>NaN</td>\n",
       "      <td>[['Quick'], ['03/11/2014']]</td>\n",
       "      <td>/Restaurant_Review-g274873-d783229-Reviews-Hal...</td>\n",
       "      <td>d783229</td>\n",
       "      <td>1</td>\n",
       "      <td>4.0</td>\n",
       "    </tr>\n",
       "    <tr>\n",
       "      <th>44068</th>\n",
       "      <td>id_451</td>\n",
       "      <td>Madrid</td>\n",
       "      <td>['Peruvian', 'South American', 'Gluten Free Op...</td>\n",
       "      <td>452.0</td>\n",
       "      <td>$$ - $$$</td>\n",
       "      <td>121.0</td>\n",
       "      <td>[['Authentic Peruvian food', 'From Peru with l...</td>\n",
       "      <td>/Restaurant_Review-g187514-d8358683-Reviews-Pa...</td>\n",
       "      <td>d8358683</td>\n",
       "      <td>1</td>\n",
       "      <td>4.5</td>\n",
       "    </tr>\n",
       "    <tr>\n",
       "      <th>4990</th>\n",
       "      <td>id_4990</td>\n",
       "      <td>Milan</td>\n",
       "      <td>['Italian']</td>\n",
       "      <td>3501.0</td>\n",
       "      <td>$</td>\n",
       "      <td>15.0</td>\n",
       "      <td>[['Ok lunch - good salat', 'when open ??'], ['...</td>\n",
       "      <td>/Restaurant_Review-g187849-d7210059-Reviews-Fe...</td>\n",
       "      <td>d7210059</td>\n",
       "      <td>0</td>\n",
       "      <td>0.0</td>\n",
       "    </tr>\n",
       "    <tr>\n",
       "      <th>31153</th>\n",
       "      <td>id_13133</td>\n",
       "      <td>London</td>\n",
       "      <td>['Indian']</td>\n",
       "      <td>13143.0</td>\n",
       "      <td>NaN</td>\n",
       "      <td>5.0</td>\n",
       "      <td>[['Great place, great food, great people', 'Mu...</td>\n",
       "      <td>/Restaurant_Review-g186338-d4041685-Reviews-Sh...</td>\n",
       "      <td>d4041685</td>\n",
       "      <td>1</td>\n",
       "      <td>4.0</td>\n",
       "    </tr>\n",
       "    <tr>\n",
       "      <th>24348</th>\n",
       "      <td>id_7486</td>\n",
       "      <td>London</td>\n",
       "      <td>['New Zealand']</td>\n",
       "      <td>7495.0</td>\n",
       "      <td>$</td>\n",
       "      <td>11.0</td>\n",
       "      <td>[['Great coffee. pleasant place,interesting m....</td>\n",
       "      <td>/Restaurant_Review-g186338-d8722473-Reviews-Ki...</td>\n",
       "      <td>d8722473</td>\n",
       "      <td>1</td>\n",
       "      <td>4.5</td>\n",
       "    </tr>\n",
       "  </tbody>\n",
       "</table>\n",
       "</div>"
      ],
      "text/plain": [
       "      Restaurant_id       City  \\\n",
       "38000       id_1636  Barcelona   \n",
       "3886        id_3886  Barcelona   \n",
       "41552       id_6122      Milan   \n",
       "48869       id_3181       Rome   \n",
       "46294       id_7548     London   \n",
       "27765        id_369  Ljubljana   \n",
       "44068        id_451     Madrid   \n",
       "4990        id_4990      Milan   \n",
       "31153      id_13133     London   \n",
       "24348       id_7486     London   \n",
       "\n",
       "                                           Cuisine Style  Ranking Price Range  \\\n",
       "38000  ['Mediterranean', 'Spanish', 'Vegetarian Frien...   1637.0    $$ - $$$   \n",
       "3886                        ['Mediterranean', 'Spanish']   6342.0           $   \n",
       "41552                                        ['Italian']   6126.0           $   \n",
       "48869   ['Italian', 'Pizza', 'Seafood', 'Mediterranean']   3182.0    $$ - $$$   \n",
       "46294  ['Lebanese', 'Fast Food', 'Middle Eastern', 'M...   7557.0           $   \n",
       "27765                                                NaN    370.0         NaN   \n",
       "44068  ['Peruvian', 'South American', 'Gluten Free Op...    452.0    $$ - $$$   \n",
       "4990                                         ['Italian']   3501.0           $   \n",
       "31153                                         ['Indian']  13143.0         NaN   \n",
       "24348                                    ['New Zealand']   7495.0           $   \n",
       "\n",
       "       Number of Reviews                                            Reviews  \\\n",
       "38000               50.0  [['Amazing food', 'Fantastic lunch'], ['10/19/...   \n",
       "3886                23.0  [['Long-time, family-owned, low-frills, local....   \n",
       "41552               49.0  [['OK pizzas + bad service + terribly overpri....   \n",
       "48869               47.0  [['Dinner', 'Highly recommended!'], ['04/21/20...   \n",
       "46294               80.0  [['Great Shawarma', 'Shawarma!'], ['09/15/2017...   \n",
       "27765                NaN                        [['Quick'], ['03/11/2014']]   \n",
       "44068              121.0  [['Authentic Peruvian food', 'From Peru with l...   \n",
       "4990                15.0  [['Ok lunch - good salat', 'when open ??'], ['...   \n",
       "31153                5.0  [['Great place, great food, great people', 'Mu...   \n",
       "24348               11.0  [['Great coffee. pleasant place,interesting m....   \n",
       "\n",
       "                                                  URL_TA      ID_TA  sample  \\\n",
       "38000  /Restaurant_Review-g187497-d10758724-Reviews-M...  d10758724       1   \n",
       "3886   /Restaurant_Review-g187497-d3676721-Reviews-Jo...   d3676721       0   \n",
       "41552  /Restaurant_Review-g187849-d8338665-Reviews-Sp...   d8338665       1   \n",
       "48869  /Restaurant_Review-g187791-d10028870-Reviews-L...  d10028870       1   \n",
       "46294  /Restaurant_Review-g186338-d720385-Reviews-Ran...    d720385       1   \n",
       "27765  /Restaurant_Review-g274873-d783229-Reviews-Hal...    d783229       1   \n",
       "44068  /Restaurant_Review-g187514-d8358683-Reviews-Pa...   d8358683       1   \n",
       "4990   /Restaurant_Review-g187849-d7210059-Reviews-Fe...   d7210059       0   \n",
       "31153  /Restaurant_Review-g186338-d4041685-Reviews-Sh...   d4041685       1   \n",
       "24348  /Restaurant_Review-g186338-d8722473-Reviews-Ki...   d8722473       1   \n",
       "\n",
       "       Rating  \n",
       "38000     4.5  \n",
       "3886      0.0  \n",
       "41552     2.0  \n",
       "48869     4.0  \n",
       "46294     4.0  \n",
       "27765     4.0  \n",
       "44068     4.5  \n",
       "4990      0.0  \n",
       "31153     4.0  \n",
       "24348     4.5  "
      ]
     },
     "execution_count": 12,
     "metadata": {},
     "output_type": "execute_result"
    }
   ],
   "source": [
    "df.sample(10)"
   ]
  },
  {
   "cell_type": "markdown",
   "metadata": {},
   "source": [
    "Подробнее по признакам:\n",
    "* City: Город \n",
    "* Cuisine Style: Кухня\n",
    "* Ranking: Ранг ресторана относительно других ресторанов в этом городе\n",
    "* Price Range: Цены в ресторане в 3 категориях\n",
    "* Number of Reviews: Количество отзывов\n",
    "* Reviews: 2 последних отзыва и даты этих отзывов\n",
    "* URL_TA: страница ресторана на 'www.tripadvisor.com' \n",
    "* ID_TA: ID ресторана в TripAdvisor\n",
    "* Rating: Рейтинг ресторана"
   ]
  },
  {
   "cell_type": "code",
   "execution_count": 13,
   "metadata": {},
   "outputs": [
    {
     "data": {
      "text/plain": [
       "\"[['Very good reviews!', 'Fine dining in Hakaniemi'], ['12/05/2017', '10/29/2017']]\""
      ]
     },
     "execution_count": 13,
     "metadata": {},
     "output_type": "execute_result"
    }
   ],
   "source": [
    "df.Reviews[1]"
   ]
  },
  {
   "cell_type": "markdown",
   "metadata": {},
   "source": [
    "Как видим, большинство признаков у нас требует очистки и предварительной обработки."
   ]
  },
  {
   "cell_type": "markdown",
   "metadata": {},
   "source": [
    "# Cleaning and Prepping Data\n",
    "Обычно данные содержат в себе кучу мусора, который необходимо почистить, для того чтобы привести их в приемлемый формат. Чистка данных — это необходимый этап решения почти любой реальной задачи.   \n",
    "![](https://analyticsindiamag.com/wp-content/uploads/2018/01/data-cleaning.png)"
   ]
  },
  {
   "cell_type": "markdown",
   "metadata": {},
   "source": [
    "## 1. Обработка NAN \n",
    "У наличия пропусков могут быть разные причины, но пропуски нужно либо заполнить, либо исключить из набора полностью. Но с пропусками нужно быть внимательным, **даже отсутствие информации может быть важным признаком!**   "
   ]
  },
  {
   "cell_type": "code",
   "execution_count": 14,
   "metadata": {},
   "outputs": [],
   "source": [
    "# заполняем пропуски 0 в числовом признаке Number of Reviews (обработка пропусков в категориальных признаках будет позже):\n",
    "df['Number of Reviews'].fillna(0, inplace=True)"
   ]
  },
  {
   "cell_type": "markdown",
   "metadata": {},
   "source": [
    "### 2. Обработка признаков\n",
    "Для начала посмотрим какие признаки у нас могут быть категориальными."
   ]
  },
  {
   "cell_type": "code",
   "execution_count": 15,
   "metadata": {},
   "outputs": [
    {
     "data": {
      "text/plain": [
       "Restaurant_id        13094\n",
       "City                    31\n",
       "Cuisine Style        10732\n",
       "Ranking              12975\n",
       "Price Range              4\n",
       "Number of Reviews     1574\n",
       "Reviews              41858\n",
       "URL_TA               49963\n",
       "ID_TA                49963\n",
       "sample                   2\n",
       "Rating                  10\n",
       "dtype: int64"
      ]
     },
     "execution_count": 15,
     "metadata": {},
     "output_type": "execute_result"
    }
   ],
   "source": [
    "df.nunique(dropna=False)"
   ]
  },
  {
   "cell_type": "markdown",
   "metadata": {},
   "source": [
    "Какие признаки можно считать категориальными?"
   ]
  },
  {
   "cell_type": "markdown",
   "metadata": {},
   "source": [
    "Для кодирования категориальных признаков есть множество подходов:\n",
    "* Label Encoding\n",
    "* One-Hot Encoding\n",
    "* Target Encoding\n",
    "* Hashing\n",
    "\n",
    "Выбор кодирования зависит от признака и выбраной модели.\n",
    "Не будем сейчас сильно погружаться в эту тематику, давайте посмотрим лучше пример с One-Hot Encoding:\n",
    "![](https://i.imgur.com/mtimFxh.png)"
   ]
  },
  {
   "cell_type": "code",
   "execution_count": 16,
   "metadata": {},
   "outputs": [],
   "source": [
    "# По One-Hot Encoding создаем новые признаки городов (пока в отдельном df):\n",
    "df_cities = pd.get_dummies(df['City'])"
   ]
  },
  {
   "cell_type": "markdown",
   "metadata": {},
   "source": [
    "#### Возьмем следующий признак \"Price Range\"."
   ]
  },
  {
   "cell_type": "code",
   "execution_count": 17,
   "metadata": {},
   "outputs": [
    {
     "data": {
      "text/plain": [
       "0        2.0\n",
       "1        2.0\n",
       "2        2.0\n",
       "3        3.0\n",
       "4        3.0\n",
       "        ... \n",
       "49995    2.0\n",
       "49996    2.0\n",
       "49997    NaN\n",
       "49998    2.0\n",
       "49999    2.0\n",
       "Name: Price, Length: 50000, dtype: float64"
      ]
     },
     "execution_count": 17,
     "metadata": {},
     "output_type": "execute_result"
    }
   ],
   "source": [
    "price_dict = {'$': 1, '$$ - $$$': 2, '$$$$': 3}\n",
    "df['Price'] = df['Price Range'].map(price_dict)\n",
    "df['Price']"
   ]
  },
  {
   "cell_type": "markdown",
   "metadata": {},
   "source": [
    "По описанию 'Price Range' это - Цены в ресторане.  \n",
    "Их можно поставить по возрастанию (значит это не категориальный признак). А это значит, что их можно заменить последовательными числами, например 1,2,3  \n",
    "*Попробуйте сделать обработку этого признака уже самостоятельно!*"
   ]
  },
  {
   "cell_type": "code",
   "execution_count": 18,
   "metadata": {},
   "outputs": [
    {
     "data": {
      "text/plain": [
       "2.0    40402\n",
       "1.0     7816\n",
       "3.0     1782\n",
       "Name: Price, dtype: int64"
      ]
     },
     "execution_count": 18,
     "metadata": {},
     "output_type": "execute_result"
    }
   ],
   "source": [
    "# Пропуски заполняем медианным значением\n",
    "df['Price'] = df['Price'].fillna(df['Price'].median())\n",
    "df['Price'].value_counts()"
   ]
  },
  {
   "cell_type": "markdown",
   "metadata": {},
   "source": [
    "> Для некоторых алгоритмов МЛ даже для не категориальных признаков можно применить One-Hot Encoding, и это может улучшить качество модели. Пробуйте разные подходы к кодированию признака - никто не знает заранее, что может взлететь."
   ]
  },
  {
   "cell_type": "markdown",
   "metadata": {},
   "source": [
    "### Обработать другие признаки вы должны самостоятельно!\n",
    "Для обработки других признаков вам возможно придется даже написать свою функцию, а может даже и не одну, но в этом и есть ваша практика в этом модуле!     \n",
    "Следуя подсказкам в модуле вы сможете более подробно узнать, как сделать эти приобразования."
   ]
  },
  {
   "cell_type": "markdown",
   "metadata": {},
   "source": [
    "### Cuisine Style"
   ]
  },
  {
   "cell_type": "code",
   "execution_count": 19,
   "metadata": {},
   "outputs": [
    {
     "data": {
      "text/plain": [
       "0                      23180\n",
       "Vegetarian Friendly    14021\n",
       "European               12561\n",
       "Mediterranean           7820\n",
       "Italian                 7433\n",
       "                       ...  \n",
       "Yunnan                     2\n",
       "Xinjiang                   1\n",
       "Latvian                    1\n",
       "Salvadoran                 1\n",
       "Burmese                    1\n",
       "Name: Cuisine Style, Length: 126, dtype: int64"
      ]
     },
     "execution_count": 19,
     "metadata": {},
     "output_type": "execute_result"
    }
   ],
   "source": [
    "# Рассмотрим признак Cuisine Style на частоту встречаемых видов кухон в ресторанах:\n",
    "df_copy = df.copy()\n",
    "df_copy['Cuisine Style'] = df_copy['Cuisine Style'].fillna('0,0')\n",
    "df_copy['Cuisine Style'] = df_copy['Cuisine Style'].apply(lambda x: eval(x))\n",
    "df_copy = df_copy.explode('Cuisine Style')\n",
    "df_copy['Cuisine Style'].value_counts()"
   ]
  },
  {
   "cell_type": "code",
   "execution_count": 20,
   "metadata": {},
   "outputs": [
    {
     "data": {
      "text/plain": [
       "0                      23180\n",
       "Vegetarian Friendly    14021\n",
       "European               12561\n",
       "Mediterranean           7820\n",
       "Italian                 7433\n",
       "Vegan Options           5684\n",
       "Gluten Free Options     5185\n",
       "Bar                     4094\n",
       "French                  3970\n",
       "Asian                   3786\n",
       "Pizza                   3502\n",
       "Spanish                 3456\n",
       "Pub                     3058\n",
       "Cafe                    2883\n",
       "Fast Food               2122\n",
       "British                 1992\n",
       "International           1966\n",
       "Seafood                 1878\n",
       "Japanese                1860\n",
       "Central European        1727\n",
       "Name: Cuisine Style, dtype: int64"
      ]
     },
     "execution_count": 20,
     "metadata": {},
     "output_type": "execute_result"
    }
   ],
   "source": [
    "df_copy['Cuisine Style'].value_counts()[:20]"
   ]
  },
  {
   "cell_type": "code",
   "execution_count": 21,
   "metadata": {},
   "outputs": [
    {
     "data": {
      "text/plain": [
       "106"
      ]
     },
     "execution_count": 21,
     "metadata": {},
     "output_type": "execute_result"
    }
   ],
   "source": [
    "df_copy['Cuisine Style'].value_counts().nunique()"
   ]
  },
  {
   "cell_type": "code",
   "execution_count": 22,
   "metadata": {},
   "outputs": [],
   "source": [
    "df['Cuisine Style'] = df['Cuisine Style'].fillna(0)"
   ]
  },
  {
   "cell_type": "code",
   "execution_count": 23,
   "metadata": {},
   "outputs": [],
   "source": [
    "# Зададим списки ID ресторанов для 2 самых часто встречаемых видов кухон:\n",
    "Restaurant_id_Vegetarian_Friendly = list(df[df['Cuisine Style'].str.contains('Vegetarian Friendly', na=False)]['Restaurant_id'])\n",
    "Restaurant_id_European = list(df[df['Cuisine Style'].str.contains('European', na=False)]['Restaurant_id'])\n",
    "\n",
    "# и создадим для них два булевых новых признака:\n",
    "df['Cusines_Vegetarian_Friendly'] = df['Restaurant_id'].apply(lambda x: 1 if x in Restaurant_id_Vegetarian_Friendly else 0)\n",
    "df['Cusines_European'] = df['Restaurant_id'].apply(lambda x: 1 if x in Restaurant_id_European else 0)"
   ]
  },
  {
   "cell_type": "markdown",
   "metadata": {},
   "source": [
    "### Feature engineering"
   ]
  },
  {
   "cell_type": "code",
   "execution_count": 24,
   "metadata": {},
   "outputs": [
    {
     "data": {
      "text/plain": [
       "[[], []]                                                                                                         8112\n",
       "[['Enjoyable restaurant with indoor and outdo...', 'Delicious food'], ['11/04/2017', '10/31/2017']]                 2\n",
       "[['Absolutely authentic and delicious!', 'Wonderful discovery'], ['09/30/2017', '08/04/2016']]                      2\n",
       "[['Great Asian Option', 'Wow'], ['10/16/2017', '09/07/2016']]                                                       2\n",
       "[['Fantastic food, Excellent service', 'Surprising good Indian food in Spain'], ['01/07/2018', '11/08/2017']]       2\n",
       "                                                                                                                 ... \n",
       "[['Good staff and food', 'Must visit!'], ['11/12/2017', '11/08/2017']]                                              1\n",
       "[['Great steak, good service, good value-for...', 'First evening in Porto'], ['09/23/2017', '09/26/2017']]          1\n",
       "[['Good fado music', 'Excellent Traditional Portuguese Food'], ['10/25/2017', '03/06/2017']]                        1\n",
       "[['Teréz Krt.', 'amazing food'], ['11/14/2017', '10/17/2017']]                                                      1\n",
       "[['Excellent lunch!', 'An AMAZING chocolate cake'], ['10/24/2015', '07/23/2015']]                                   1\n",
       "Name: Reviews, Length: 41857, dtype: int64"
      ]
     },
     "execution_count": 24,
     "metadata": {},
     "output_type": "execute_result"
    }
   ],
   "source": [
    "# Анализируем, что можно выделить из Reviews:\n",
    "df['Reviews'].value_counts()"
   ]
  },
  {
   "cell_type": "code",
   "execution_count": 25,
   "metadata": {},
   "outputs": [
    {
     "data": {
      "text/plain": [
       "1    41888\n",
       "0     8112\n",
       "Name: Reviews_value, dtype: int64"
      ]
     },
     "execution_count": 25,
     "metadata": {},
     "output_type": "execute_result"
    }
   ],
   "source": [
    "# добавим признак с идентефикацией ресторанов без отзывов на сайте:\n",
    "df['Reviews_value']= df['Reviews'].replace('[[], []]', 0)\n",
    "df['Reviews_value']=df['Reviews_value'].apply(lambda x: 1 if x!=0 else x)\n",
    "df['Reviews_value'].value_counts()"
   ]
  },
  {
   "cell_type": "code",
   "execution_count": 26,
   "metadata": {},
   "outputs": [],
   "source": [
    "# с помощью библиотеки Re выделим даты из столбца Reviews:\n",
    "df['Reviews_date'] = df['Reviews'].apply(lambda x: re.findall(r\"\\d\\d\\/\\d\\d\\/\\d{4}\", str(x)) \n",
    "                                                           if len(re.findall(r\"\\d\\d\\/\\d\\d\\/\\d{4}\", str(x))) == 2\n",
    "                                                           else ['01/01/2000', '01/01/2000'])"
   ]
  },
  {
   "cell_type": "code",
   "execution_count": 27,
   "metadata": {},
   "outputs": [
    {
     "data": {
      "text/plain": [
       "0              0.0\n",
       "1          53280.0\n",
       "2          31680.0\n",
       "3          20160.0\n",
       "4          21600.0\n",
       "           ...    \n",
       "49995      48960.0\n",
       "49996      12960.0\n",
       "49997    4502880.0\n",
       "49998      33120.0\n",
       "49999    1880640.0\n",
       "Name: Reviews_delta, Length: 50000, dtype: float64"
      ]
     },
     "execution_count": 27,
     "metadata": {},
     "output_type": "execute_result"
    }
   ],
   "source": [
    "# признак по разнице минут между двумя отзывами из столбца Reviews:\n",
    "df['Reviews_delta'] = df['Reviews_date'].apply(lambda x: (datetime.timestamp(datetime.strptime(x[0], '%m/%d/%Y')) - datetime.timestamp(datetime.strptime(x[1], '%m/%d/%Y')))/60)\n",
    "df['Reviews_delta']"
   ]
  },
  {
   "cell_type": "code",
   "execution_count": 28,
   "metadata": {},
   "outputs": [
    {
     "data": {
      "text/plain": [
       "2477531     2\n",
       "11921719    2\n",
       "3161682     2\n",
       "793170      2\n",
       "5617412     2\n",
       "           ..\n",
       "10396257    1\n",
       "6845353     1\n",
       "5263967     1\n",
       "7291485     1\n",
       "720896      1\n",
       "Name: ID_TA, Length: 49963, dtype: int64"
      ]
     },
     "execution_count": 28,
     "metadata": {},
     "output_type": "execute_result"
    }
   ],
   "source": [
    "# Изменим значения из ID_TA со строковых на числовые:\n",
    "df['ID_TA'] = df['ID_TA'].apply(lambda x: int(x[1:]))\n",
    "df['ID_TA'].value_counts()"
   ]
  },
  {
   "cell_type": "code",
   "execution_count": 29,
   "metadata": {},
   "outputs": [
    {
     "data": {
      "text/plain": [
       "0    49926\n",
       "1       74\n",
       "Name: Probable_duplicates, dtype: int64"
      ]
     },
     "execution_count": 29,
     "metadata": {},
     "output_type": "execute_result"
    }
   ],
   "source": [
    "# создадим признак вероятного дубликата по одиннаковым ID:\n",
    "Repeart_ID = df['ID_TA'].value_counts()\n",
    "df['Probable_duplicates'] = df['ID_TA'].apply(lambda x: Repeart_ID[x] - 1)\n",
    "df['Probable_duplicates'].value_counts()"
   ]
  },
  {
   "cell_type": "code",
   "execution_count": 30,
   "metadata": {},
   "outputs": [
    {
     "data": {
      "text/plain": [
       "13507346"
      ]
     },
     "execution_count": 30,
     "metadata": {},
     "output_type": "execute_result"
    }
   ],
   "source": [
    "df['ID_TA'].max()"
   ]
  },
  {
   "cell_type": "code",
   "execution_count": 31,
   "metadata": {},
   "outputs": [
    {
     "data": {
      "text/plain": [
       "680315"
      ]
     },
     "execution_count": 31,
     "metadata": {},
     "output_type": "execute_result"
    }
   ],
   "source": [
    "df['ID_TA'].min()"
   ]
  },
  {
   "cell_type": "code",
   "execution_count": 32,
   "metadata": {},
   "outputs": [
    {
     "data": {
      "text/plain": [
       "1     4044\n",
       "2     3724\n",
       "4     3075\n",
       "14    2639\n",
       "11    2546\n",
       "20    2519\n",
       "7     2425\n",
       "24    2424\n",
       "25    2416\n",
       "17    2166\n",
       "16    2142\n",
       "23    2089\n",
       "8     1940\n",
       "9     1920\n",
       "15    1801\n",
       "13    1768\n",
       "3     1754\n",
       "21    1578\n",
       "6     1530\n",
       "19    1328\n",
       "10    1110\n",
       "5     1102\n",
       "26     898\n",
       "12     835\n",
       "22     122\n",
       "18     101\n",
       "27       4\n",
       "Name: Group_ID_TA, dtype: int64"
      ]
     },
     "execution_count": 32,
     "metadata": {},
     "output_type": "execute_result"
    }
   ],
   "source": [
    "# получим признак ID, разделенный на группы по номерам ID, кратным 500000):\n",
    "df['Group_ID_TA'] = df['ID_TA'].apply(lambda x: x // 500000)\n",
    "df['Group_ID_TA'].value_counts()"
   ]
  },
  {
   "cell_type": "code",
   "execution_count": 33,
   "metadata": {},
   "outputs": [
    {
     "data": {
      "text/plain": [
       "0        6108\n",
       "1         475\n",
       "2         745\n",
       "3        7193\n",
       "4         380\n",
       "         ... \n",
       "49995    2694\n",
       "49996    6108\n",
       "49997    1033\n",
       "49998     925\n",
       "49999    2694\n",
       "Name: City_value, Length: 50000, dtype: int64"
      ]
     },
     "execution_count": 33,
     "metadata": {},
     "output_type": "execute_result"
    }
   ],
   "source": [
    "# добавим новый признак, возвращающий для каждого ресторана количество ресторанов из его города в датасете:\n",
    "Cities = df.City.value_counts()\n",
    "df['City_value'] = df['City'].apply(lambda x: Cities[x])\n",
    "df['City_value']"
   ]
  },
  {
   "cell_type": "code",
   "execution_count": 34,
   "metadata": {},
   "outputs": [
    {
     "data": {
      "text/plain": [
       "1.000000    16\n",
       "2.000000    14\n",
       "0.500000     9\n",
       "1.333333     6\n",
       "1.500000     6\n",
       "            ..\n",
       "0.637425     1\n",
       "2.013423     1\n",
       "2.112609     1\n",
       "0.991159     1\n",
       "1.736823     1\n",
       "Name: Rate_ranking_in_City, Length: 49655, dtype: int64"
      ]
     },
     "execution_count": 34,
     "metadata": {},
     "output_type": "execute_result"
    }
   ],
   "source": [
    "# получим важный признак отношения Ranking ресторана к количеству ресторанов из его города в датасете (чем меньше результат, тем, вероятно, ресторан лучше) \n",
    "df['Rate_ranking_in_City'] = df['Ranking'] / df['City_value']\n",
    "df['Rate_ranking_in_City'].value_counts()"
   ]
  },
  {
   "cell_type": "code",
   "execution_count": 35,
   "metadata": {},
   "outputs": [
    {
     "data": {
      "text/plain": [
       "1.861949    7193\n",
       "1.926981    6108\n",
       "1.916077    3813\n",
       "1.856259    3395\n",
       "1.862477    2705\n",
       "1.845583    2694\n",
       "1.788722    2589\n",
       "1.840308    1816\n",
       "1.822101    1647\n",
       "1.914761    1443\n",
       "1.871720    1372\n",
       "1.907915    1314\n",
       "1.940135    1186\n",
       "1.944105    1145\n",
       "1.944938    1126\n",
       "1.969022    1033\n",
       "1.807052    1021\n",
       "1.886486     925\n",
       "1.839713     836\n",
       "1.934066     819\n",
       "1.798969     776\n",
       "1.766443     745\n",
       "1.981022     685\n",
       "1.772586     642\n",
       "2.033898     590\n",
       "1.763538     554\n",
       "1.959016     488\n",
       "1.911579     475\n",
       "1.936842     380\n",
       "1.984791     263\n",
       "1.819820     222\n",
       "Name: Average_price_for_city, dtype: int64"
      ]
     },
     "execution_count": 35,
     "metadata": {},
     "output_type": "execute_result"
    }
   ],
   "source": [
    "# Признак среднего уровня цены по городу ресторана:\n",
    "dict_avg_price_for_city = df.groupby('City')['Price'].mean().to_dict()\n",
    "df['Average_price_for_city'] = df['City'].map(dict_avg_price_for_city)\n",
    "df['Average_price_for_city'].value_counts()"
   ]
  },
  {
   "cell_type": "code",
   "execution_count": 36,
   "metadata": {},
   "outputs": [
    {
     "name": "stdout",
     "output_type": "stream",
     "text": [
      "<class 'pandas.core.frame.DataFrame'>\n",
      "RangeIndex: 50000 entries, 0 to 49999\n",
      "Data columns (total 22 columns):\n",
      "Restaurant_id                  50000 non-null object\n",
      "City                           50000 non-null object\n",
      "Cuisine Style                  50000 non-null object\n",
      "Ranking                        50000 non-null float64\n",
      "Price Range                    32639 non-null object\n",
      "Number of Reviews              50000 non-null float64\n",
      "Reviews                        49998 non-null object\n",
      "URL_TA                         50000 non-null object\n",
      "ID_TA                          50000 non-null int64\n",
      "sample                         50000 non-null int64\n",
      "Rating                         50000 non-null float64\n",
      "Price                          50000 non-null float64\n",
      "Cusines_Vegetarian_Friendly    50000 non-null int64\n",
      "Cusines_European               50000 non-null int64\n",
      "Reviews_value                  50000 non-null int64\n",
      "Reviews_date                   50000 non-null object\n",
      "Reviews_delta                  50000 non-null float64\n",
      "Probable_duplicates            50000 non-null int64\n",
      "Group_ID_TA                    50000 non-null int64\n",
      "City_value                     50000 non-null int64\n",
      "Rate_ranking_in_City           50000 non-null float64\n",
      "Average_price_for_city         50000 non-null float64\n",
      "dtypes: float64(7), int64(8), object(7)\n",
      "memory usage: 8.4+ MB\n"
     ]
    }
   ],
   "source": [
    "df.info()"
   ]
  },
  {
   "cell_type": "markdown",
   "metadata": {},
   "source": [
    "![](https://cs10.pikabu.ru/post_img/2018/09/06/11/1536261023140110012.jpg)"
   ]
  },
  {
   "cell_type": "markdown",
   "metadata": {},
   "source": [
    "# EDA \n",
    "[Exploratory Data Analysis](https://ru.wikipedia.org/wiki/Разведочный_анализ_данных) - Анализ данных\n",
    "На этом этапе мы строим графики, ищем закономерности, аномалии, выбросы или связи между признаками.\n",
    "В общем цель этого этапа понять, что эти данные могут нам дать и как признаки могут быть взаимосвязаны между собой.\n",
    "Понимание изначальных признаков позволит сгенерировать новые, более сильные и, тем самым, сделать нашу модель лучше.\n",
    "![](https://miro.medium.com/max/2598/1*RXdMb7Uk6mGqWqPguHULaQ.png)"
   ]
  },
  {
   "cell_type": "markdown",
   "metadata": {},
   "source": [
    "### Посмотрим распределение признака"
   ]
  },
  {
   "cell_type": "code",
   "execution_count": 37,
   "metadata": {},
   "outputs": [
    {
     "data": {
      "text/plain": [
       "<matplotlib.axes._subplots.AxesSubplot at 0x7f4ab1eccd68>"
      ]
     },
     "execution_count": 37,
     "metadata": {},
     "output_type": "execute_result"
    },
    {
     "data": {
      "image/png": "[encoded data removed]",
      "text/plain": [
       "<Figure size 720x504 with 1 Axes>"
      ]
     },
     "metadata": {
      "needs_background": "light"
     },
     "output_type": "display_data"
    }
   ],
   "source": [
    "plt.rcParams['figure.figsize'] = (10,7)\n",
    "df_train['Ranking'].hist(bins=100)"
   ]
  },
  {
   "cell_type": "markdown",
   "metadata": {},
   "source": [
    "У нас много ресторанов, которые не дотягивают и до 2500 места в своем городе, а что там по городам?"
   ]
  },
  {
   "cell_type": "code",
   "execution_count": 38,
   "metadata": {},
   "outputs": [
    {
     "data": {
      "text/plain": [
       "<matplotlib.axes._subplots.AxesSubplot at 0x7f4a9e377080>"
      ]
     },
     "execution_count": 38,
     "metadata": {},
     "output_type": "execute_result"
    },
    {
     "data": {
      "image/png": "[encoded data removed]",
      "text/plain": [
       "<Figure size 720x504 with 1 Axes>"
      ]
     },
     "metadata": {
      "needs_background": "light"
     },
     "output_type": "display_data"
    }
   ],
   "source": [
    "df_train['City'].value_counts(ascending=True).plot(kind='barh')"
   ]
  },
  {
   "cell_type": "markdown",
   "metadata": {},
   "source": [
    "А кто-то говорил, что французы любят поесть=) Посмотрим, как изменится распределение в большом городе:"
   ]
  },
  {
   "cell_type": "code",
   "execution_count": 39,
   "metadata": {},
   "outputs": [
    {
     "data": {
      "text/plain": [
       "<matplotlib.axes._subplots.AxesSubplot at 0x7f4a9e2536d8>"
      ]
     },
     "execution_count": 39,
     "metadata": {},
     "output_type": "execute_result"
    },
    {
     "data": {
      "image/png": "[encoded data removed]",
      "text/plain": [
       "<Figure size 720x504 with 1 Axes>"
      ]
     },
     "metadata": {
      "needs_background": "light"
     },
     "output_type": "display_data"
    }
   ],
   "source": [
    "df_train['Ranking'][df_train['City'] =='London'].hist(bins=100)"
   ]
  },
  {
   "cell_type": "code",
   "execution_count": 40,
   "metadata": {},
   "outputs": [
    {
     "data": {
      "image/png": "[encoded data removed]",
      "text/plain": [
       "<Figure size 720x504 with 1 Axes>"
      ]
     },
     "metadata": {
      "needs_background": "light"
     },
     "output_type": "display_data"
    }
   ],
   "source": [
    "# посмотрим на топ 10 городов\n",
    "for x in (df_train['City'].value_counts())[0:10].index:\n",
    "    df_train['Ranking'][df_train['City'] == x].hist(bins=100)\n",
    "plt.show()"
   ]
  },
  {
   "cell_type": "markdown",
   "metadata": {},
   "source": [
    "Получается, что Ranking имеет нормальное распределение, просто в больших городах больше ресторанов, из-за мы этого имеем смещение.\n",
    "\n",
    ">Подумайте как из этого можно сделать признак для вашей модели. Я покажу вам пример, как визуализация помогает находить взаимосвязи. А далее действуйте без подсказок =) \n"
   ]
  },
  {
   "cell_type": "markdown",
   "metadata": {},
   "source": [
    "### Посмотрим распределение целевой переменной"
   ]
  },
  {
   "cell_type": "code",
   "execution_count": 41,
   "metadata": {},
   "outputs": [
    {
     "data": {
      "text/plain": [
       "<matplotlib.axes._subplots.AxesSubplot at 0x7f4a94e37f28>"
      ]
     },
     "execution_count": 41,
     "metadata": {},
     "output_type": "execute_result"
    },
    {
     "data": {
      "image/png": "[encoded data removed]",
      "text/plain": [
       "<Figure size 720x504 with 1 Axes>"
      ]
     },
     "metadata": {
      "needs_background": "light"
     },
     "output_type": "display_data"
    }
   ],
   "source": [
    "df_train['Rating'].value_counts(ascending=True).plot(kind='barh')"
   ]
  },
  {
   "cell_type": "markdown",
   "metadata": {},
   "source": [
    "### Посмотрим распределение целевой переменной относительно признака"
   ]
  },
  {
   "cell_type": "code",
   "execution_count": 42,
   "metadata": {},
   "outputs": [
    {
     "data": {
      "text/plain": [
       "<matplotlib.axes._subplots.AxesSubplot at 0x7f4a944bfc88>"
      ]
     },
     "execution_count": 42,
     "metadata": {},
     "output_type": "execute_result"
    },
    {
     "data": {
      "image/png": "[encoded data removed]",
      "text/plain": [
       "<Figure size 720x504 with 1 Axes>"
      ]
     },
     "metadata": {
      "needs_background": "light"
     },
     "output_type": "display_data"
    }
   ],
   "source": [
    "df_train['Ranking'][df_train['Rating'] == 5].hist(bins=100)"
   ]
  },
  {
   "cell_type": "code",
   "execution_count": 43,
   "metadata": {},
   "outputs": [
    {
     "data": {
      "text/plain": [
       "<matplotlib.axes._subplots.AxesSubplot at 0x7f4a943ab780>"
      ]
     },
     "execution_count": 43,
     "metadata": {},
     "output_type": "execute_result"
    },
    {
     "data": {
      "image/png": "[encoded data removed]",
      "text/plain": [
       "<Figure size 720x504 with 1 Axes>"
      ]
     },
     "metadata": {
      "needs_background": "light"
     },
     "output_type": "display_data"
    }
   ],
   "source": [
    "df_train['Ranking'][df_train['Rating'] < 4].hist(bins=100)"
   ]
  },
  {
   "cell_type": "markdown",
   "metadata": {},
   "source": [
    "### И один из моих любимых - [корреляция признаков](https://ru.wikipedia.org/wiki/Корреляция)\n",
    "На этом графике уже сейчас вы сможете заметить, как признаки связаны между собой и с целевой переменной."
   ]
  },
  {
   "cell_type": "code",
   "execution_count": 44,
   "metadata": {},
   "outputs": [
    {
     "data": {
      "image/png": "[encoded data removed]",
      "text/plain": [
       "<Figure size 1080x1080 with 2 Axes>"
      ]
     },
     "metadata": {},
     "output_type": "display_data"
    }
   ],
   "source": [
    "sns.set(font_scale=1)\n",
    "plt.subplots(figsize=(15, 15))\n",
    "sns.heatmap(df.corr(), square=True,\n",
    "              annot=True, fmt=\".1f\", linewidths=0.1, cmap=\"RdBu\");"
   ]
  },
  {
   "cell_type": "markdown",
   "metadata": {},
   "source": [
    "Вообще благодаря визуализации в этом датасете можно узнать много интересных фактов, например:\n",
    "* где больше Пицерий в Мадриде или Лондоне?\n",
    "* в каком городе кухня ресторанов более разнообразна?\n",
    "\n",
    "придумайте свои вопрос и найдите на него ответ в данных)"
   ]
  },
  {
   "cell_type": "markdown",
   "metadata": {},
   "source": [
    "# Data Preprocessing\n",
    "Теперь, для удобства и воспроизводимости кода, завернем всю обработку в одну большую функцию."
   ]
  },
  {
   "cell_type": "code",
   "execution_count": 45,
   "metadata": {},
   "outputs": [
    {
     "name": "stdout",
     "output_type": "stream",
     "text": [
      "<class 'pandas.core.frame.DataFrame'>\n",
      "RangeIndex: 50000 entries, 0 to 49999\n",
      "Data columns (total 45 columns):\n",
      "Ranking                        50000 non-null float64\n",
      "Number of Reviews              50000 non-null float64\n",
      "sample                         50000 non-null int64\n",
      "Rating                         50000 non-null float64\n",
      "Price                          50000 non-null float64\n",
      "Cusines_Vegetarian_Friendly    50000 non-null int64\n",
      "Cusines_European               50000 non-null int64\n",
      "Reviews_value                  50000 non-null int64\n",
      "Reviews_delta                  50000 non-null float64\n",
      "Probable_duplicates            50000 non-null int64\n",
      "Group_ID_TA                    50000 non-null int64\n",
      "City_value                     50000 non-null int64\n",
      "Rate_ranking_in_City           50000 non-null float64\n",
      "Average_price_for_city         50000 non-null float64\n",
      "Amsterdam                      50000 non-null uint8\n",
      "Athens                         50000 non-null uint8\n",
      "Barcelona                      50000 non-null uint8\n",
      "Berlin                         50000 non-null uint8\n",
      "Bratislava                     50000 non-null uint8\n",
      "Brussels                       50000 non-null uint8\n",
      "Budapest                       50000 non-null uint8\n",
      "Copenhagen                     50000 non-null uint8\n",
      "Dublin                         50000 non-null uint8\n",
      "Edinburgh                      50000 non-null uint8\n",
      "Geneva                         50000 non-null uint8\n",
      "Hamburg                        50000 non-null uint8\n",
      "Helsinki                       50000 non-null uint8\n",
      "Krakow                         50000 non-null uint8\n",
      "Lisbon                         50000 non-null uint8\n",
      "Ljubljana                      50000 non-null uint8\n",
      "London                         50000 non-null uint8\n",
      "Luxembourg                     50000 non-null uint8\n",
      "Lyon                           50000 non-null uint8\n",
      "Madrid                         50000 non-null uint8\n",
      "Milan                          50000 non-null uint8\n",
      "Munich                         50000 non-null uint8\n",
      "Oporto                         50000 non-null uint8\n",
      "Oslo                           50000 non-null uint8\n",
      "Paris                          50000 non-null uint8\n",
      "Prague                         50000 non-null uint8\n",
      "Rome                           50000 non-null uint8\n",
      "Stockholm                      50000 non-null uint8\n",
      "Vienna                         50000 non-null uint8\n",
      "Warsaw                         50000 non-null uint8\n",
      "Zurich                         50000 non-null uint8\n",
      "dtypes: float64(7), int64(7), uint8(31)\n",
      "memory usage: 6.8 MB\n"
     ]
    }
   ],
   "source": [
    "# Удаляем ненужные признаки\n",
    "df_output = df.drop(['Restaurant_id', 'City', 'Cuisine Style', 'Reviews','URL_TA', 'ID_TA', 'Price Range', 'Reviews_date'], axis=1)\n",
    "# Объединяем датасет с dummy признаками\n",
    "df_output = pd.concat([df_output, df_cities], axis = 1)\n",
    "# смотрим\n",
    "df_output.info()"
   ]
  },
  {
   "cell_type": "code",
   "execution_count": 46,
   "metadata": {},
   "outputs": [],
   "source": [
    "# Теперь выделим тестовую часть\n",
    "train_data = df_output.query('sample == 1').drop(['sample'], axis=1)\n",
    "test_data = df_output.query('sample == 0').drop(['sample'], axis=1)\n",
    "\n",
    "y = train_data.Rating.values            # наш таргет\n",
    "X = train_data.drop(['Rating'], axis=1)"
   ]
  },
  {
   "cell_type": "code",
   "execution_count": 47,
   "metadata": {},
   "outputs": [],
   "source": [
    "# Загружаем специальный удобный инструмент для разделения датасета:\n",
    "from sklearn.model_selection import train_test_split\n",
    "# Воспользуемся специальной функцие train_test_split для разбивки тестовых данных\n",
    "# выделим 20% данных на валидацию (параметр test_size)\n",
    "X_train, X_test, y_train, y_test = train_test_split(X, y, test_size=0.2, random_state=RANDOM_SEED)"
   ]
  },
  {
   "cell_type": "code",
   "execution_count": 48,
   "metadata": {},
   "outputs": [
    {
     "data": {
      "text/plain": [
       "((10000, 44), (40000, 44), (40000, 43), (32000, 43), (8000, 43))"
      ]
     },
     "execution_count": 48,
     "metadata": {},
     "output_type": "execute_result"
    }
   ],
   "source": [
    "# проверяем\n",
    "test_data.shape, train_data.shape, X.shape, X_train.shape, X_test.shape"
   ]
  },
  {
   "cell_type": "markdown",
   "metadata": {},
   "source": [
    "# Model \n",
    "Сам ML"
   ]
  },
  {
   "cell_type": "code",
   "execution_count": 49,
   "metadata": {},
   "outputs": [],
   "source": [
    "# Импортируем необходимые библиотеки:\n",
    "from sklearn.ensemble import RandomForestRegressor # инструмент для создания и обучения модели\n",
    "from sklearn import metrics # инструменты для оценки точности модели"
   ]
  },
  {
   "cell_type": "code",
   "execution_count": 50,
   "metadata": {},
   "outputs": [],
   "source": [
    "# Создаём модель (НАСТРОЙКИ НЕ ТРОГАЕМ)\n",
    "model = RandomForestRegressor(n_estimators=100, verbose=1, n_jobs=-1, random_state=RANDOM_SEED)"
   ]
  },
  {
   "cell_type": "code",
   "execution_count": 51,
   "metadata": {},
   "outputs": [
    {
     "name": "stderr",
     "output_type": "stream",
     "text": [
      "[Parallel(n_jobs=-1)]: Using backend ThreadingBackend with 4 concurrent workers.\n",
      "[Parallel(n_jobs=-1)]: Done  42 tasks      | elapsed:    3.8s\n",
      "[Parallel(n_jobs=-1)]: Done 100 out of 100 | elapsed:    8.5s finished\n",
      "[Parallel(n_jobs=4)]: Using backend ThreadingBackend with 4 concurrent workers.\n",
      "[Parallel(n_jobs=4)]: Done  42 tasks      | elapsed:    0.0s\n",
      "[Parallel(n_jobs=4)]: Done 100 out of 100 | elapsed:    0.1s finished\n"
     ]
    }
   ],
   "source": [
    "# Обучаем модель на тестовом наборе данных\n",
    "model.fit(X_train, y_train)\n",
    "\n",
    "# Используем обученную модель для предсказания рейтинга ресторанов в тестовой выборке.\n",
    "# Предсказанные значения записываем в переменную y_pred\n",
    "y_pred = model.predict(X_test)"
   ]
  },
  {
   "cell_type": "markdown",
   "metadata": {},
   "source": [
    "Опишем функцию округления рейтинга по интервалу 0,5"
   ]
  },
  {
   "cell_type": "code",
   "execution_count": 52,
   "metadata": {},
   "outputs": [],
   "source": [
    "def round_output(result):\n",
    "    if result <= 0.25:\n",
    "        return 0\n",
    "    elif 0.25 < result <= 0.75:\n",
    "        return 0.5\n",
    "    elif 0.75 < result <= 1.25:\n",
    "        return 1\n",
    "    elif 1.25 < result <= 1.75:\n",
    "        return 1.5\n",
    "    elif 1.75 < result <= 2.25:\n",
    "        return 2\n",
    "    elif 2.25 < result <= 2.75:\n",
    "        return 2.5\n",
    "    elif 2.75 < result <= 3.25:\n",
    "        return 3\n",
    "    elif 3.25 < result <= 3.75:\n",
    "        return 3.5\n",
    "    elif 3.75 < result <= 4.25:\n",
    "        return 4\n",
    "    elif 4.25 < result <= 4.75:\n",
    "        return 4.5\n",
    "    else:\n",
    "        return 5\n",
    "    \n",
    "for i in range(y_pred.size):\n",
    "    y_pred[i] = round_output(y_pred[i])"
   ]
  },
  {
   "cell_type": "code",
   "execution_count": 53,
   "metadata": {},
   "outputs": [
    {
     "name": "stdout",
     "output_type": "stream",
     "text": [
      "MAE: 0.1676875\n"
     ]
    }
   ],
   "source": [
    "# Сравниваем предсказанные значения (y_pred) с реальными (y_test), и смотрим насколько они в среднем отличаются\n",
    "# Метрика называется Mean Absolute Error (MAE) и показывает среднее отклонение предсказанных значений от фактических.\n",
    "print('MAE:', metrics.mean_absolute_error(y_test, y_pred))"
   ]
  },
  {
   "cell_type": "code",
   "execution_count": 54,
   "metadata": {},
   "outputs": [
    {
     "data": {
      "text/plain": [
       "<matplotlib.axes._subplots.AxesSubplot at 0x7f4a94cffbe0>"
      ]
     },
     "execution_count": 54,
     "metadata": {},
     "output_type": "execute_result"
    },
    {
     "data": {
      "image/png": "[encoded data removed]",
      "text/plain": [
       "<Figure size 1080x1080 with 1 Axes>"
      ]
     },
     "metadata": {},
     "output_type": "display_data"
    }
   ],
   "source": [
    "# в RandomForestRegressor есть возможность вывести самые важные признаки для модели\n",
    "plt.rcParams['figure.figsize'] = (15,15)\n",
    "feat_importances = pd.Series(model.feature_importances_, index=X.columns)\n",
    "feat_importances.nlargest(20).plot(kind='barh')"
   ]
  },
  {
   "cell_type": "markdown",
   "metadata": {},
   "source": [
    "# Submission\n",
    "Если все устраевает - готовим Submission на кагл"
   ]
  },
  {
   "cell_type": "code",
   "execution_count": 55,
   "metadata": {},
   "outputs": [
    {
     "data": {
      "text/html": [
       "<div>\n",
       "<style scoped>\n",
       "    .dataframe tbody tr th:only-of-type {\n",
       "        vertical-align: middle;\n",
       "    }\n",
       "\n",
       "    .dataframe tbody tr th {\n",
       "        vertical-align: top;\n",
       "    }\n",
       "\n",
       "    .dataframe thead th {\n",
       "        text-align: right;\n",
       "    }\n",
       "</style>\n",
       "<table border=\"1\" class=\"dataframe\">\n",
       "  <thead>\n",
       "    <tr style=\"text-align: right;\">\n",
       "      <th></th>\n",
       "      <th>Ranking</th>\n",
       "      <th>Number of Reviews</th>\n",
       "      <th>Rating</th>\n",
       "      <th>Price</th>\n",
       "      <th>Cusines_Vegetarian_Friendly</th>\n",
       "      <th>Cusines_European</th>\n",
       "      <th>Reviews_value</th>\n",
       "      <th>Reviews_delta</th>\n",
       "      <th>Probable_duplicates</th>\n",
       "      <th>Group_ID_TA</th>\n",
       "      <th>...</th>\n",
       "      <th>Munich</th>\n",
       "      <th>Oporto</th>\n",
       "      <th>Oslo</th>\n",
       "      <th>Paris</th>\n",
       "      <th>Prague</th>\n",
       "      <th>Rome</th>\n",
       "      <th>Stockholm</th>\n",
       "      <th>Vienna</th>\n",
       "      <th>Warsaw</th>\n",
       "      <th>Zurich</th>\n",
       "    </tr>\n",
       "  </thead>\n",
       "  <tbody>\n",
       "    <tr>\n",
       "      <th>1060</th>\n",
       "      <td>937.0</td>\n",
       "      <td>18.0</td>\n",
       "      <td>0.0</td>\n",
       "      <td>2.0</td>\n",
       "      <td>1</td>\n",
       "      <td>1</td>\n",
       "      <td>1</td>\n",
       "      <td>666720.0</td>\n",
       "      <td>0</td>\n",
       "      <td>1</td>\n",
       "      <td>...</td>\n",
       "      <td>0</td>\n",
       "      <td>0</td>\n",
       "      <td>0</td>\n",
       "      <td>0</td>\n",
       "      <td>0</td>\n",
       "      <td>0</td>\n",
       "      <td>0</td>\n",
       "      <td>0</td>\n",
       "      <td>0</td>\n",
       "      <td>0</td>\n",
       "    </tr>\n",
       "    <tr>\n",
       "      <th>1507</th>\n",
       "      <td>709.0</td>\n",
       "      <td>130.0</td>\n",
       "      <td>0.0</td>\n",
       "      <td>1.0</td>\n",
       "      <td>1</td>\n",
       "      <td>0</td>\n",
       "      <td>1</td>\n",
       "      <td>28800.0</td>\n",
       "      <td>0</td>\n",
       "      <td>9</td>\n",
       "      <td>...</td>\n",
       "      <td>0</td>\n",
       "      <td>0</td>\n",
       "      <td>0</td>\n",
       "      <td>0</td>\n",
       "      <td>0</td>\n",
       "      <td>0</td>\n",
       "      <td>0</td>\n",
       "      <td>0</td>\n",
       "      <td>0</td>\n",
       "      <td>0</td>\n",
       "    </tr>\n",
       "    <tr>\n",
       "      <th>939</th>\n",
       "      <td>7316.0</td>\n",
       "      <td>13.0</td>\n",
       "      <td>0.0</td>\n",
       "      <td>2.0</td>\n",
       "      <td>1</td>\n",
       "      <td>1</td>\n",
       "      <td>1</td>\n",
       "      <td>0.0</td>\n",
       "      <td>0</td>\n",
       "      <td>23</td>\n",
       "      <td>...</td>\n",
       "      <td>0</td>\n",
       "      <td>0</td>\n",
       "      <td>0</td>\n",
       "      <td>1</td>\n",
       "      <td>0</td>\n",
       "      <td>0</td>\n",
       "      <td>0</td>\n",
       "      <td>0</td>\n",
       "      <td>0</td>\n",
       "      <td>0</td>\n",
       "    </tr>\n",
       "    <tr>\n",
       "      <th>4660</th>\n",
       "      <td>1927.0</td>\n",
       "      <td>7.0</td>\n",
       "      <td>0.0</td>\n",
       "      <td>2.0</td>\n",
       "      <td>1</td>\n",
       "      <td>1</td>\n",
       "      <td>1</td>\n",
       "      <td>313920.0</td>\n",
       "      <td>0</td>\n",
       "      <td>20</td>\n",
       "      <td>...</td>\n",
       "      <td>0</td>\n",
       "      <td>0</td>\n",
       "      <td>0</td>\n",
       "      <td>0</td>\n",
       "      <td>0</td>\n",
       "      <td>0</td>\n",
       "      <td>0</td>\n",
       "      <td>0</td>\n",
       "      <td>0</td>\n",
       "      <td>0</td>\n",
       "    </tr>\n",
       "    <tr>\n",
       "      <th>2490</th>\n",
       "      <td>8404.0</td>\n",
       "      <td>35.0</td>\n",
       "      <td>0.0</td>\n",
       "      <td>2.0</td>\n",
       "      <td>0</td>\n",
       "      <td>1</td>\n",
       "      <td>1</td>\n",
       "      <td>486720.0</td>\n",
       "      <td>0</td>\n",
       "      <td>11</td>\n",
       "      <td>...</td>\n",
       "      <td>0</td>\n",
       "      <td>0</td>\n",
       "      <td>0</td>\n",
       "      <td>0</td>\n",
       "      <td>0</td>\n",
       "      <td>0</td>\n",
       "      <td>0</td>\n",
       "      <td>0</td>\n",
       "      <td>0</td>\n",
       "      <td>0</td>\n",
       "    </tr>\n",
       "    <tr>\n",
       "      <th>2843</th>\n",
       "      <td>7485.0</td>\n",
       "      <td>44.0</td>\n",
       "      <td>0.0</td>\n",
       "      <td>1.0</td>\n",
       "      <td>1</td>\n",
       "      <td>1</td>\n",
       "      <td>1</td>\n",
       "      <td>113760.0</td>\n",
       "      <td>0</td>\n",
       "      <td>15</td>\n",
       "      <td>...</td>\n",
       "      <td>0</td>\n",
       "      <td>0</td>\n",
       "      <td>0</td>\n",
       "      <td>0</td>\n",
       "      <td>0</td>\n",
       "      <td>0</td>\n",
       "      <td>0</td>\n",
       "      <td>0</td>\n",
       "      <td>0</td>\n",
       "      <td>0</td>\n",
       "    </tr>\n",
       "    <tr>\n",
       "      <th>4887</th>\n",
       "      <td>1570.0</td>\n",
       "      <td>76.0</td>\n",
       "      <td>0.0</td>\n",
       "      <td>2.0</td>\n",
       "      <td>1</td>\n",
       "      <td>0</td>\n",
       "      <td>1</td>\n",
       "      <td>891360.0</td>\n",
       "      <td>0</td>\n",
       "      <td>1</td>\n",
       "      <td>...</td>\n",
       "      <td>0</td>\n",
       "      <td>0</td>\n",
       "      <td>0</td>\n",
       "      <td>0</td>\n",
       "      <td>0</td>\n",
       "      <td>0</td>\n",
       "      <td>0</td>\n",
       "      <td>0</td>\n",
       "      <td>0</td>\n",
       "      <td>0</td>\n",
       "    </tr>\n",
       "    <tr>\n",
       "      <th>7267</th>\n",
       "      <td>572.0</td>\n",
       "      <td>23.0</td>\n",
       "      <td>0.0</td>\n",
       "      <td>2.0</td>\n",
       "      <td>0</td>\n",
       "      <td>0</td>\n",
       "      <td>1</td>\n",
       "      <td>46080.0</td>\n",
       "      <td>0</td>\n",
       "      <td>15</td>\n",
       "      <td>...</td>\n",
       "      <td>0</td>\n",
       "      <td>0</td>\n",
       "      <td>0</td>\n",
       "      <td>0</td>\n",
       "      <td>0</td>\n",
       "      <td>0</td>\n",
       "      <td>0</td>\n",
       "      <td>0</td>\n",
       "      <td>1</td>\n",
       "      <td>0</td>\n",
       "    </tr>\n",
       "    <tr>\n",
       "      <th>2771</th>\n",
       "      <td>2340.0</td>\n",
       "      <td>88.0</td>\n",
       "      <td>0.0</td>\n",
       "      <td>2.0</td>\n",
       "      <td>1</td>\n",
       "      <td>1</td>\n",
       "      <td>1</td>\n",
       "      <td>194400.0</td>\n",
       "      <td>0</td>\n",
       "      <td>12</td>\n",
       "      <td>...</td>\n",
       "      <td>0</td>\n",
       "      <td>0</td>\n",
       "      <td>0</td>\n",
       "      <td>0</td>\n",
       "      <td>0</td>\n",
       "      <td>0</td>\n",
       "      <td>0</td>\n",
       "      <td>0</td>\n",
       "      <td>0</td>\n",
       "      <td>0</td>\n",
       "    </tr>\n",
       "    <tr>\n",
       "      <th>258</th>\n",
       "      <td>1577.0</td>\n",
       "      <td>226.0</td>\n",
       "      <td>0.0</td>\n",
       "      <td>2.0</td>\n",
       "      <td>1</td>\n",
       "      <td>1</td>\n",
       "      <td>1</td>\n",
       "      <td>59040.0</td>\n",
       "      <td>0</td>\n",
       "      <td>2</td>\n",
       "      <td>...</td>\n",
       "      <td>0</td>\n",
       "      <td>0</td>\n",
       "      <td>0</td>\n",
       "      <td>1</td>\n",
       "      <td>0</td>\n",
       "      <td>0</td>\n",
       "      <td>0</td>\n",
       "      <td>0</td>\n",
       "      <td>0</td>\n",
       "      <td>0</td>\n",
       "    </tr>\n",
       "  </tbody>\n",
       "</table>\n",
       "<p>10 rows × 44 columns</p>\n",
       "</div>"
      ],
      "text/plain": [
       "      Ranking  Number of Reviews  Rating  Price  Cusines_Vegetarian_Friendly  \\\n",
       "1060    937.0               18.0     0.0    2.0                            1   \n",
       "1507    709.0              130.0     0.0    1.0                            1   \n",
       "939    7316.0               13.0     0.0    2.0                            1   \n",
       "4660   1927.0                7.0     0.0    2.0                            1   \n",
       "2490   8404.0               35.0     0.0    2.0                            0   \n",
       "2843   7485.0               44.0     0.0    1.0                            1   \n",
       "4887   1570.0               76.0     0.0    2.0                            1   \n",
       "7267    572.0               23.0     0.0    2.0                            0   \n",
       "2771   2340.0               88.0     0.0    2.0                            1   \n",
       "258    1577.0              226.0     0.0    2.0                            1   \n",
       "\n",
       "      Cusines_European  Reviews_value  Reviews_delta  Probable_duplicates  \\\n",
       "1060                 1              1       666720.0                    0   \n",
       "1507                 0              1        28800.0                    0   \n",
       "939                  1              1            0.0                    0   \n",
       "4660                 1              1       313920.0                    0   \n",
       "2490                 1              1       486720.0                    0   \n",
       "2843                 1              1       113760.0                    0   \n",
       "4887                 0              1       891360.0                    0   \n",
       "7267                 0              1        46080.0                    0   \n",
       "2771                 1              1       194400.0                    0   \n",
       "258                  1              1        59040.0                    0   \n",
       "\n",
       "      Group_ID_TA  ...  Munich  Oporto  Oslo  Paris  Prague  Rome  Stockholm  \\\n",
       "1060            1  ...       0       0     0      0       0     0          0   \n",
       "1507            9  ...       0       0     0      0       0     0          0   \n",
       "939            23  ...       0       0     0      1       0     0          0   \n",
       "4660           20  ...       0       0     0      0       0     0          0   \n",
       "2490           11  ...       0       0     0      0       0     0          0   \n",
       "2843           15  ...       0       0     0      0       0     0          0   \n",
       "4887            1  ...       0       0     0      0       0     0          0   \n",
       "7267           15  ...       0       0     0      0       0     0          0   \n",
       "2771           12  ...       0       0     0      0       0     0          0   \n",
       "258             2  ...       0       0     0      1       0     0          0   \n",
       "\n",
       "      Vienna  Warsaw  Zurich  \n",
       "1060       0       0       0  \n",
       "1507       0       0       0  \n",
       "939        0       0       0  \n",
       "4660       0       0       0  \n",
       "2490       0       0       0  \n",
       "2843       0       0       0  \n",
       "4887       0       0       0  \n",
       "7267       0       1       0  \n",
       "2771       0       0       0  \n",
       "258        0       0       0  \n",
       "\n",
       "[10 rows x 44 columns]"
      ]
     },
     "execution_count": 55,
     "metadata": {},
     "output_type": "execute_result"
    }
   ],
   "source": [
    "test_data.sample(10)"
   ]
  },
  {
   "cell_type": "code",
   "execution_count": 56,
   "metadata": {},
   "outputs": [],
   "source": [
    "test_data = test_data.drop(['Rating'], axis=1)"
   ]
  },
  {
   "cell_type": "code",
   "execution_count": 57,
   "metadata": {},
   "outputs": [
    {
     "name": "stderr",
     "output_type": "stream",
     "text": [
      "[Parallel(n_jobs=4)]: Using backend ThreadingBackend with 4 concurrent workers.\n",
      "[Parallel(n_jobs=4)]: Done  42 tasks      | elapsed:    0.0s\n",
      "[Parallel(n_jobs=4)]: Done 100 out of 100 | elapsed:    0.1s finished\n"
     ]
    },
    {
     "data": {
      "text/plain": [
       "array([3.155, 4.255, 4.5  , ..., 3.01 , 4.465, 4.175])"
      ]
     },
     "execution_count": 57,
     "metadata": {},
     "output_type": "execute_result"
    }
   ],
   "source": [
    "predict_submission = model.predict(test_data)\n",
    "predict_submission"
   ]
  },
  {
   "cell_type": "code",
   "execution_count": 58,
   "metadata": {},
   "outputs": [
    {
     "data": {
      "text/html": [
       "<div>\n",
       "<style scoped>\n",
       "    .dataframe tbody tr th:only-of-type {\n",
       "        vertical-align: middle;\n",
       "    }\n",
       "\n",
       "    .dataframe tbody tr th {\n",
       "        vertical-align: top;\n",
       "    }\n",
       "\n",
       "    .dataframe thead th {\n",
       "        text-align: right;\n",
       "    }\n",
       "</style>\n",
       "<table border=\"1\" class=\"dataframe\">\n",
       "  <thead>\n",
       "    <tr style=\"text-align: right;\">\n",
       "      <th></th>\n",
       "      <th>Restaurant_id</th>\n",
       "      <th>Rating</th>\n",
       "    </tr>\n",
       "  </thead>\n",
       "  <tbody>\n",
       "    <tr>\n",
       "      <th>0</th>\n",
       "      <td>id_0</td>\n",
       "      <td>3.0</td>\n",
       "    </tr>\n",
       "    <tr>\n",
       "      <th>1</th>\n",
       "      <td>id_1</td>\n",
       "      <td>4.5</td>\n",
       "    </tr>\n",
       "    <tr>\n",
       "      <th>2</th>\n",
       "      <td>id_2</td>\n",
       "      <td>4.5</td>\n",
       "    </tr>\n",
       "    <tr>\n",
       "      <th>3</th>\n",
       "      <td>id_3</td>\n",
       "      <td>4.5</td>\n",
       "    </tr>\n",
       "    <tr>\n",
       "      <th>4</th>\n",
       "      <td>id_4</td>\n",
       "      <td>4.5</td>\n",
       "    </tr>\n",
       "    <tr>\n",
       "      <th>5</th>\n",
       "      <td>id_5</td>\n",
       "      <td>4.5</td>\n",
       "    </tr>\n",
       "    <tr>\n",
       "      <th>6</th>\n",
       "      <td>id_6</td>\n",
       "      <td>2.0</td>\n",
       "    </tr>\n",
       "    <tr>\n",
       "      <th>7</th>\n",
       "      <td>id_7</td>\n",
       "      <td>2.5</td>\n",
       "    </tr>\n",
       "    <tr>\n",
       "      <th>8</th>\n",
       "      <td>id_8</td>\n",
       "      <td>4.0</td>\n",
       "    </tr>\n",
       "    <tr>\n",
       "      <th>9</th>\n",
       "      <td>id_9</td>\n",
       "      <td>4.5</td>\n",
       "    </tr>\n",
       "  </tbody>\n",
       "</table>\n",
       "</div>"
      ],
      "text/plain": [
       "  Restaurant_id  Rating\n",
       "0          id_0     3.0\n",
       "1          id_1     4.5\n",
       "2          id_2     4.5\n",
       "3          id_3     4.5\n",
       "4          id_4     4.5\n",
       "5          id_5     4.5\n",
       "6          id_6     2.0\n",
       "7          id_7     2.5\n",
       "8          id_8     4.0\n",
       "9          id_9     4.5"
      ]
     },
     "execution_count": 58,
     "metadata": {},
     "output_type": "execute_result"
    }
   ],
   "source": [
    "sample_submission['Rating'] = predict_submission\n",
    "sample_submission['Rating'] = sample_submission['Rating'].apply(round_output)\n",
    "sample_submission.to_csv('submission_new_forked.csv', index=False)\n",
    "sample_submission.head(10)"
   ]
  },
  {
   "cell_type": "markdown",
   "metadata": {},
   "source": [
    "# What's next?\n",
    "Или что делать, чтоб улучшить результат:\n",
    "* Обработать оставшиеся признаки в понятный для машины формат\n",
    "* Посмотреть, что еще можно извлечь из признаков\n",
    "* Сгенерировать новые признаки\n",
    "* Подгрузить дополнительные данные, например: по населению или благосостоянию городов\n",
    "* Подобрать состав признаков\n",
    "\n",
    "В общем, процесс творческий и весьма увлекательный! Удачи в соревновании!\n"
   ]
  },
  {
   "cell_type": "code",
   "execution_count": null,
   "metadata": {},
   "outputs": [],
   "source": []
  }
 ],
 "metadata": {
  "kernelspec": {
   "display_name": "Python 3",
   "language": "python",
   "name": "python3"
  },
  "language_info": {
   "codemirror_mode": {
    "name": "ipython",
    "version": 3
   },
   "file_extension": ".py",
   "mimetype": "text/x-python",
   "name": "python",
   "nbconvert_exporter": "python",
   "pygments_lexer": "ipython3",
   "version": "3.6.6"
  }
 },
 "nbformat": 4,
 "nbformat_minor": 4
}
